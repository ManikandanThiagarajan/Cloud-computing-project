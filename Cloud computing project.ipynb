{
 "cells": [
  {
   "cell_type": "code",
   "execution_count": 6,
   "metadata": {},
   "outputs": [
    {
     "data": {
      "application/javascript": [
       "IPython.notebook.set_autosave_interval(20000)"
      ]
     },
     "metadata": {},
     "output_type": "display_data"
    },
    {
     "name": "stdout",
     "output_type": "stream",
     "text": [
      "Autosaving every 20 seconds\n"
     ]
    }
   ],
   "source": [
    "import pandas as pd\n",
    "import matplotlib.pyplot as plt\n",
    "from datetime import datetime\n",
    "import numpy as np\n",
    "import statistics\n",
    "import os\n",
    "import logging\n",
    "from pathlib import Path\n",
    "import sqlite3\n",
    "%autosave 20"
   ]
  },
  {
   "cell_type": "code",
   "execution_count": 8,
   "metadata": {},
   "outputs": [],
   "source": [
    "gpu_data=pd.read_csv(\"./Documents/gpu.csv\")\n",
    "app_data=pd.read_csv(\"./Documents/application-checkpoints.csv\")\n",
    "task_data=pd.read_csv(\"./Documents/task-x-y.csv\")"
   ]
  },
  {
   "cell_type": "code",
   "execution_count": 9,
   "metadata": {},
   "outputs": [
    {
     "data": {
      "text/html": [
       "<div>\n",
       "<style scoped>\n",
       "    .dataframe tbody tr th:only-of-type {\n",
       "        vertical-align: middle;\n",
       "    }\n",
       "\n",
       "    .dataframe tbody tr th {\n",
       "        vertical-align: top;\n",
       "    }\n",
       "\n",
       "    .dataframe thead th {\n",
       "        text-align: right;\n",
       "    }\n",
       "</style>\n",
       "<table border=\"1\" class=\"dataframe\">\n",
       "  <thead>\n",
       "    <tr style=\"text-align: right;\">\n",
       "      <th></th>\n",
       "      <th>timestamp</th>\n",
       "      <th>hostname</th>\n",
       "      <th>gpuSerial</th>\n",
       "      <th>gpuUUID</th>\n",
       "      <th>powerDrawWatt</th>\n",
       "      <th>gpuTempC</th>\n",
       "      <th>gpuUtilPerc</th>\n",
       "      <th>gpuMemUtilPerc</th>\n",
       "    </tr>\n",
       "  </thead>\n",
       "  <tbody>\n",
       "    <tr>\n",
       "      <th>0</th>\n",
       "      <td>2018-11-08T08:27:10.314Z</td>\n",
       "      <td>8b6a0eebc87b4cb2b0539e81075191b900001C</td>\n",
       "      <td>323217055910</td>\n",
       "      <td>GPU-1d1602dc-f615-a7c7-ab53-fb4a7a479534</td>\n",
       "      <td>131.55</td>\n",
       "      <td>48</td>\n",
       "      <td>92</td>\n",
       "      <td>53</td>\n",
       "    </tr>\n",
       "    <tr>\n",
       "      <th>1</th>\n",
       "      <td>2018-11-08T08:27:10.192Z</td>\n",
       "      <td>d8241877cd994572b46c861e5d144c85000000</td>\n",
       "      <td>323617020295</td>\n",
       "      <td>GPU-04a2dea7-f4f1-12d0-b94d-996446746e6f</td>\n",
       "      <td>117.03</td>\n",
       "      <td>40</td>\n",
       "      <td>92</td>\n",
       "      <td>48</td>\n",
       "    </tr>\n",
       "    <tr>\n",
       "      <th>2</th>\n",
       "      <td>2018-11-08T08:27:10.842Z</td>\n",
       "      <td>db871cd77a544e13bc791a64a0c8ed50000006</td>\n",
       "      <td>323217056562</td>\n",
       "      <td>GPU-f4597939-a0b4-e78a-2436-12dbab9a350f</td>\n",
       "      <td>121.64</td>\n",
       "      <td>45</td>\n",
       "      <td>91</td>\n",
       "      <td>44</td>\n",
       "    </tr>\n",
       "    <tr>\n",
       "      <th>3</th>\n",
       "      <td>2018-11-08T08:27:10.424Z</td>\n",
       "      <td>b9a1fa7ae2f74eb68f25f607980f97d7000010</td>\n",
       "      <td>325217085931</td>\n",
       "      <td>GPU-ad773c69-c386-a4be-b214-1ea4fc6045df</td>\n",
       "      <td>50.23</td>\n",
       "      <td>38</td>\n",
       "      <td>90</td>\n",
       "      <td>43</td>\n",
       "    </tr>\n",
       "    <tr>\n",
       "      <th>4</th>\n",
       "      <td>2018-11-08T08:27:10.937Z</td>\n",
       "      <td>db871cd77a544e13bc791a64a0c8ed50000003</td>\n",
       "      <td>323217056464</td>\n",
       "      <td>GPU-2d4eed64-4ca8-f12c-24bc-28f036493ea2</td>\n",
       "      <td>141.82</td>\n",
       "      <td>41</td>\n",
       "      <td>90</td>\n",
       "      <td>47</td>\n",
       "    </tr>\n",
       "  </tbody>\n",
       "</table>\n",
       "</div>"
      ],
      "text/plain": [
       "                  timestamp                                hostname  \\\n",
       "0  2018-11-08T08:27:10.314Z  8b6a0eebc87b4cb2b0539e81075191b900001C   \n",
       "1  2018-11-08T08:27:10.192Z  d8241877cd994572b46c861e5d144c85000000   \n",
       "2  2018-11-08T08:27:10.842Z  db871cd77a544e13bc791a64a0c8ed50000006   \n",
       "3  2018-11-08T08:27:10.424Z  b9a1fa7ae2f74eb68f25f607980f97d7000010   \n",
       "4  2018-11-08T08:27:10.937Z  db871cd77a544e13bc791a64a0c8ed50000003   \n",
       "\n",
       "      gpuSerial                                   gpuUUID  powerDrawWatt  \\\n",
       "0  323217055910  GPU-1d1602dc-f615-a7c7-ab53-fb4a7a479534         131.55   \n",
       "1  323617020295  GPU-04a2dea7-f4f1-12d0-b94d-996446746e6f         117.03   \n",
       "2  323217056562  GPU-f4597939-a0b4-e78a-2436-12dbab9a350f         121.64   \n",
       "3  325217085931  GPU-ad773c69-c386-a4be-b214-1ea4fc6045df          50.23   \n",
       "4  323217056464  GPU-2d4eed64-4ca8-f12c-24bc-28f036493ea2         141.82   \n",
       "\n",
       "   gpuTempC  gpuUtilPerc  gpuMemUtilPerc  \n",
       "0        48           92              53  \n",
       "1        40           92              48  \n",
       "2        45           91              44  \n",
       "3        38           90              43  \n",
       "4        41           90              47  "
      ]
     },
     "execution_count": 9,
     "metadata": {},
     "output_type": "execute_result"
    }
   ],
   "source": [
    "gpu_data.head(5)"
   ]
  },
  {
   "cell_type": "code",
   "execution_count": 10,
   "metadata": {},
   "outputs": [
    {
     "data": {
      "text/html": [
       "<div>\n",
       "<style scoped>\n",
       "    .dataframe tbody tr th:only-of-type {\n",
       "        vertical-align: middle;\n",
       "    }\n",
       "\n",
       "    .dataframe tbody tr th {\n",
       "        vertical-align: top;\n",
       "    }\n",
       "\n",
       "    .dataframe thead th {\n",
       "        text-align: right;\n",
       "    }\n",
       "</style>\n",
       "<table border=\"1\" class=\"dataframe\">\n",
       "  <thead>\n",
       "    <tr style=\"text-align: right;\">\n",
       "      <th></th>\n",
       "      <th>timestamp</th>\n",
       "      <th>hostname</th>\n",
       "      <th>eventName</th>\n",
       "      <th>eventType</th>\n",
       "      <th>jobId</th>\n",
       "      <th>taskId</th>\n",
       "    </tr>\n",
       "  </thead>\n",
       "  <tbody>\n",
       "    <tr>\n",
       "      <th>0</th>\n",
       "      <td>2018-11-08T07:41:55.921Z</td>\n",
       "      <td>0d56a730076643d585f77e00d2d8521a00000N</td>\n",
       "      <td>Tiling</td>\n",
       "      <td>STOP</td>\n",
       "      <td>1024-lvl12-7e026be3-5fd0-48ee-b7d1-abd61f747705</td>\n",
       "      <td>b47f0263-ba1c-48a7-8d29-4bf021b72043</td>\n",
       "    </tr>\n",
       "    <tr>\n",
       "      <th>1</th>\n",
       "      <td>2018-11-08T07:42:29.842Z</td>\n",
       "      <td>0d56a730076643d585f77e00d2d8521a00000N</td>\n",
       "      <td>Saving Config</td>\n",
       "      <td>START</td>\n",
       "      <td>1024-lvl12-7e026be3-5fd0-48ee-b7d1-abd61f747705</td>\n",
       "      <td>20fb9fcf-a927-4a4b-a64c-70258b66b42d</td>\n",
       "    </tr>\n",
       "    <tr>\n",
       "      <th>2</th>\n",
       "      <td>2018-11-08T07:42:29.845Z</td>\n",
       "      <td>0d56a730076643d585f77e00d2d8521a00000N</td>\n",
       "      <td>Saving Config</td>\n",
       "      <td>STOP</td>\n",
       "      <td>1024-lvl12-7e026be3-5fd0-48ee-b7d1-abd61f747705</td>\n",
       "      <td>20fb9fcf-a927-4a4b-a64c-70258b66b42d</td>\n",
       "    </tr>\n",
       "    <tr>\n",
       "      <th>3</th>\n",
       "      <td>2018-11-08T07:42:29.845Z</td>\n",
       "      <td>0d56a730076643d585f77e00d2d8521a00000N</td>\n",
       "      <td>Render</td>\n",
       "      <td>START</td>\n",
       "      <td>1024-lvl12-7e026be3-5fd0-48ee-b7d1-abd61f747705</td>\n",
       "      <td>20fb9fcf-a927-4a4b-a64c-70258b66b42d</td>\n",
       "    </tr>\n",
       "    <tr>\n",
       "      <th>4</th>\n",
       "      <td>2018-11-08T07:43:13.957Z</td>\n",
       "      <td>0d56a730076643d585f77e00d2d8521a00000N</td>\n",
       "      <td>TotalRender</td>\n",
       "      <td>STOP</td>\n",
       "      <td>1024-lvl12-7e026be3-5fd0-48ee-b7d1-abd61f747705</td>\n",
       "      <td>20fb9fcf-a927-4a4b-a64c-70258b66b42d</td>\n",
       "    </tr>\n",
       "  </tbody>\n",
       "</table>\n",
       "</div>"
      ],
      "text/plain": [
       "                  timestamp                                hostname  \\\n",
       "0  2018-11-08T07:41:55.921Z  0d56a730076643d585f77e00d2d8521a00000N   \n",
       "1  2018-11-08T07:42:29.842Z  0d56a730076643d585f77e00d2d8521a00000N   \n",
       "2  2018-11-08T07:42:29.845Z  0d56a730076643d585f77e00d2d8521a00000N   \n",
       "3  2018-11-08T07:42:29.845Z  0d56a730076643d585f77e00d2d8521a00000N   \n",
       "4  2018-11-08T07:43:13.957Z  0d56a730076643d585f77e00d2d8521a00000N   \n",
       "\n",
       "       eventName eventType                                            jobId  \\\n",
       "0         Tiling      STOP  1024-lvl12-7e026be3-5fd0-48ee-b7d1-abd61f747705   \n",
       "1  Saving Config     START  1024-lvl12-7e026be3-5fd0-48ee-b7d1-abd61f747705   \n",
       "2  Saving Config      STOP  1024-lvl12-7e026be3-5fd0-48ee-b7d1-abd61f747705   \n",
       "3         Render     START  1024-lvl12-7e026be3-5fd0-48ee-b7d1-abd61f747705   \n",
       "4    TotalRender      STOP  1024-lvl12-7e026be3-5fd0-48ee-b7d1-abd61f747705   \n",
       "\n",
       "                                 taskId  \n",
       "0  b47f0263-ba1c-48a7-8d29-4bf021b72043  \n",
       "1  20fb9fcf-a927-4a4b-a64c-70258b66b42d  \n",
       "2  20fb9fcf-a927-4a4b-a64c-70258b66b42d  \n",
       "3  20fb9fcf-a927-4a4b-a64c-70258b66b42d  \n",
       "4  20fb9fcf-a927-4a4b-a64c-70258b66b42d  "
      ]
     },
     "execution_count": 10,
     "metadata": {},
     "output_type": "execute_result"
    }
   ],
   "source": [
    "app_data.head(5)"
   ]
  },
  {
   "cell_type": "code",
   "execution_count": 17,
   "metadata": {
    "collapsed": true
   },
   "outputs": [
    {
     "ename": "DataError",
     "evalue": "No numeric types to aggregate",
     "output_type": "error",
     "traceback": [
      "\u001b[1;31m---------------------------------------------------------------------------\u001b[0m",
      "\u001b[1;31mDataError\u001b[0m                                 Traceback (most recent call last)",
      "\u001b[1;32m<ipython-input-17-7788a709601d>\u001b[0m in \u001b[0;36m<module>\u001b[1;34m\u001b[0m\n\u001b[1;32m----> 1\u001b[1;33m \u001b[0mapp_data\u001b[0m\u001b[1;33m.\u001b[0m\u001b[0mpivot_table\u001b[0m\u001b[1;33m(\u001b[0m\u001b[1;34m'timestamp'\u001b[0m\u001b[1;33m,\u001b[0m \u001b[1;33m[\u001b[0m\u001b[1;34m'hostname'\u001b[0m\u001b[1;33m,\u001b[0m\u001b[1;34m'eventName'\u001b[0m\u001b[1;33m,\u001b[0m\u001b[1;34m'jobId'\u001b[0m\u001b[1;33m,\u001b[0m\u001b[1;34m'taskId'\u001b[0m\u001b[1;33m]\u001b[0m\u001b[1;33m,\u001b[0m \u001b[1;34m'eventType'\u001b[0m\u001b[1;33m)\u001b[0m\u001b[1;33m\u001b[0m\u001b[1;33m\u001b[0m\u001b[0m\n\u001b[0m",
      "\u001b[1;32mc:\\users\\manikandan\\appdata\\local\\programs\\python\\python37\\lib\\site-packages\\pandas\\core\\frame.py\u001b[0m in \u001b[0;36mpivot_table\u001b[1;34m(self, values, index, columns, aggfunc, fill_value, margins, dropna, margins_name, observed)\u001b[0m\n\u001b[0;32m   6087\u001b[0m             \u001b[0mdropna\u001b[0m\u001b[1;33m=\u001b[0m\u001b[0mdropna\u001b[0m\u001b[1;33m,\u001b[0m\u001b[1;33m\u001b[0m\u001b[1;33m\u001b[0m\u001b[0m\n\u001b[0;32m   6088\u001b[0m             \u001b[0mmargins_name\u001b[0m\u001b[1;33m=\u001b[0m\u001b[0mmargins_name\u001b[0m\u001b[1;33m,\u001b[0m\u001b[1;33m\u001b[0m\u001b[1;33m\u001b[0m\u001b[0m\n\u001b[1;32m-> 6089\u001b[1;33m             \u001b[0mobserved\u001b[0m\u001b[1;33m=\u001b[0m\u001b[0mobserved\u001b[0m\u001b[1;33m,\u001b[0m\u001b[1;33m\u001b[0m\u001b[1;33m\u001b[0m\u001b[0m\n\u001b[0m\u001b[0;32m   6090\u001b[0m         )\n\u001b[0;32m   6091\u001b[0m \u001b[1;33m\u001b[0m\u001b[0m\n",
      "\u001b[1;32mc:\\users\\manikandan\\appdata\\local\\programs\\python\\python37\\lib\\site-packages\\pandas\\core\\reshape\\pivot.py\u001b[0m in \u001b[0;36mpivot_table\u001b[1;34m(data, values, index, columns, aggfunc, fill_value, margins, dropna, margins_name, observed)\u001b[0m\n\u001b[0;32m     94\u001b[0m \u001b[1;33m\u001b[0m\u001b[0m\n\u001b[0;32m     95\u001b[0m     \u001b[0mgrouped\u001b[0m \u001b[1;33m=\u001b[0m \u001b[0mdata\u001b[0m\u001b[1;33m.\u001b[0m\u001b[0mgroupby\u001b[0m\u001b[1;33m(\u001b[0m\u001b[0mkeys\u001b[0m\u001b[1;33m,\u001b[0m \u001b[0mobserved\u001b[0m\u001b[1;33m=\u001b[0m\u001b[0mobserved\u001b[0m\u001b[1;33m)\u001b[0m\u001b[1;33m\u001b[0m\u001b[1;33m\u001b[0m\u001b[0m\n\u001b[1;32m---> 96\u001b[1;33m     \u001b[0magged\u001b[0m \u001b[1;33m=\u001b[0m \u001b[0mgrouped\u001b[0m\u001b[1;33m.\u001b[0m\u001b[0magg\u001b[0m\u001b[1;33m(\u001b[0m\u001b[0maggfunc\u001b[0m\u001b[1;33m)\u001b[0m\u001b[1;33m\u001b[0m\u001b[1;33m\u001b[0m\u001b[0m\n\u001b[0m\u001b[0;32m     97\u001b[0m     \u001b[1;32mif\u001b[0m \u001b[0mdropna\u001b[0m \u001b[1;32mand\u001b[0m \u001b[0misinstance\u001b[0m\u001b[1;33m(\u001b[0m\u001b[0magged\u001b[0m\u001b[1;33m,\u001b[0m \u001b[0mABCDataFrame\u001b[0m\u001b[1;33m)\u001b[0m \u001b[1;32mand\u001b[0m \u001b[0mlen\u001b[0m\u001b[1;33m(\u001b[0m\u001b[0magged\u001b[0m\u001b[1;33m.\u001b[0m\u001b[0mcolumns\u001b[0m\u001b[1;33m)\u001b[0m\u001b[1;33m:\u001b[0m\u001b[1;33m\u001b[0m\u001b[1;33m\u001b[0m\u001b[0m\n\u001b[0;32m     98\u001b[0m         \u001b[0magged\u001b[0m \u001b[1;33m=\u001b[0m \u001b[0magged\u001b[0m\u001b[1;33m.\u001b[0m\u001b[0mdropna\u001b[0m\u001b[1;33m(\u001b[0m\u001b[0mhow\u001b[0m\u001b[1;33m=\u001b[0m\u001b[1;34m\"all\"\u001b[0m\u001b[1;33m)\u001b[0m\u001b[1;33m\u001b[0m\u001b[1;33m\u001b[0m\u001b[0m\n",
      "\u001b[1;32mc:\\users\\manikandan\\appdata\\local\\programs\\python\\python37\\lib\\site-packages\\pandas\\core\\groupby\\generic.py\u001b[0m in \u001b[0;36maggregate\u001b[1;34m(self, arg, *args, **kwargs)\u001b[0m\n\u001b[0;32m   1453\u001b[0m     \u001b[1;33m@\u001b[0m\u001b[0mAppender\u001b[0m\u001b[1;33m(\u001b[0m\u001b[0m_shared_docs\u001b[0m\u001b[1;33m[\u001b[0m\u001b[1;34m\"aggregate\"\u001b[0m\u001b[1;33m]\u001b[0m\u001b[1;33m)\u001b[0m\u001b[1;33m\u001b[0m\u001b[1;33m\u001b[0m\u001b[0m\n\u001b[0;32m   1454\u001b[0m     \u001b[1;32mdef\u001b[0m \u001b[0maggregate\u001b[0m\u001b[1;33m(\u001b[0m\u001b[0mself\u001b[0m\u001b[1;33m,\u001b[0m \u001b[0marg\u001b[0m\u001b[1;33m=\u001b[0m\u001b[1;32mNone\u001b[0m\u001b[1;33m,\u001b[0m \u001b[1;33m*\u001b[0m\u001b[0margs\u001b[0m\u001b[1;33m,\u001b[0m \u001b[1;33m**\u001b[0m\u001b[0mkwargs\u001b[0m\u001b[1;33m)\u001b[0m\u001b[1;33m:\u001b[0m\u001b[1;33m\u001b[0m\u001b[1;33m\u001b[0m\u001b[0m\n\u001b[1;32m-> 1455\u001b[1;33m         \u001b[1;32mreturn\u001b[0m \u001b[0msuper\u001b[0m\u001b[1;33m(\u001b[0m\u001b[1;33m)\u001b[0m\u001b[1;33m.\u001b[0m\u001b[0maggregate\u001b[0m\u001b[1;33m(\u001b[0m\u001b[0marg\u001b[0m\u001b[1;33m,\u001b[0m \u001b[1;33m*\u001b[0m\u001b[0margs\u001b[0m\u001b[1;33m,\u001b[0m \u001b[1;33m**\u001b[0m\u001b[0mkwargs\u001b[0m\u001b[1;33m)\u001b[0m\u001b[1;33m\u001b[0m\u001b[1;33m\u001b[0m\u001b[0m\n\u001b[0m\u001b[0;32m   1456\u001b[0m \u001b[1;33m\u001b[0m\u001b[0m\n\u001b[0;32m   1457\u001b[0m     \u001b[0magg\u001b[0m \u001b[1;33m=\u001b[0m \u001b[0maggregate\u001b[0m\u001b[1;33m\u001b[0m\u001b[1;33m\u001b[0m\u001b[0m\n",
      "\u001b[1;32mc:\\users\\manikandan\\appdata\\local\\programs\\python\\python37\\lib\\site-packages\\pandas\\core\\groupby\\generic.py\u001b[0m in \u001b[0;36maggregate\u001b[1;34m(self, func, *args, **kwargs)\u001b[0m\n\u001b[0;32m    227\u001b[0m         \u001b[0mfunc\u001b[0m \u001b[1;33m=\u001b[0m \u001b[0m_maybe_mangle_lambdas\u001b[0m\u001b[1;33m(\u001b[0m\u001b[0mfunc\u001b[0m\u001b[1;33m)\u001b[0m\u001b[1;33m\u001b[0m\u001b[1;33m\u001b[0m\u001b[0m\n\u001b[0;32m    228\u001b[0m \u001b[1;33m\u001b[0m\u001b[0m\n\u001b[1;32m--> 229\u001b[1;33m         \u001b[0mresult\u001b[0m\u001b[1;33m,\u001b[0m \u001b[0mhow\u001b[0m \u001b[1;33m=\u001b[0m \u001b[0mself\u001b[0m\u001b[1;33m.\u001b[0m\u001b[0m_aggregate\u001b[0m\u001b[1;33m(\u001b[0m\u001b[0mfunc\u001b[0m\u001b[1;33m,\u001b[0m \u001b[0m_level\u001b[0m\u001b[1;33m=\u001b[0m\u001b[0m_level\u001b[0m\u001b[1;33m,\u001b[0m \u001b[1;33m*\u001b[0m\u001b[0margs\u001b[0m\u001b[1;33m,\u001b[0m \u001b[1;33m**\u001b[0m\u001b[0mkwargs\u001b[0m\u001b[1;33m)\u001b[0m\u001b[1;33m\u001b[0m\u001b[1;33m\u001b[0m\u001b[0m\n\u001b[0m\u001b[0;32m    230\u001b[0m         \u001b[1;32mif\u001b[0m \u001b[0mhow\u001b[0m \u001b[1;32mis\u001b[0m \u001b[1;32mNone\u001b[0m\u001b[1;33m:\u001b[0m\u001b[1;33m\u001b[0m\u001b[1;33m\u001b[0m\u001b[0m\n\u001b[0;32m    231\u001b[0m             \u001b[1;32mreturn\u001b[0m \u001b[0mresult\u001b[0m\u001b[1;33m\u001b[0m\u001b[1;33m\u001b[0m\u001b[0m\n",
      "\u001b[1;32mc:\\users\\manikandan\\appdata\\local\\programs\\python\\python37\\lib\\site-packages\\pandas\\core\\base.py\u001b[0m in \u001b[0;36m_aggregate\u001b[1;34m(self, arg, *args, **kwargs)\u001b[0m\n\u001b[0;32m    354\u001b[0m \u001b[1;33m\u001b[0m\u001b[0m\n\u001b[0;32m    355\u001b[0m         \u001b[1;32mif\u001b[0m \u001b[0misinstance\u001b[0m\u001b[1;33m(\u001b[0m\u001b[0marg\u001b[0m\u001b[1;33m,\u001b[0m \u001b[0mstr\u001b[0m\u001b[1;33m)\u001b[0m\u001b[1;33m:\u001b[0m\u001b[1;33m\u001b[0m\u001b[1;33m\u001b[0m\u001b[0m\n\u001b[1;32m--> 356\u001b[1;33m             \u001b[1;32mreturn\u001b[0m \u001b[0mself\u001b[0m\u001b[1;33m.\u001b[0m\u001b[0m_try_aggregate_string_function\u001b[0m\u001b[1;33m(\u001b[0m\u001b[0marg\u001b[0m\u001b[1;33m,\u001b[0m \u001b[1;33m*\u001b[0m\u001b[0margs\u001b[0m\u001b[1;33m,\u001b[0m \u001b[1;33m**\u001b[0m\u001b[0mkwargs\u001b[0m\u001b[1;33m)\u001b[0m\u001b[1;33m,\u001b[0m \u001b[1;32mNone\u001b[0m\u001b[1;33m\u001b[0m\u001b[1;33m\u001b[0m\u001b[0m\n\u001b[0m\u001b[0;32m    357\u001b[0m \u001b[1;33m\u001b[0m\u001b[0m\n\u001b[0;32m    358\u001b[0m         \u001b[1;32mif\u001b[0m \u001b[0misinstance\u001b[0m\u001b[1;33m(\u001b[0m\u001b[0marg\u001b[0m\u001b[1;33m,\u001b[0m \u001b[0mdict\u001b[0m\u001b[1;33m)\u001b[0m\u001b[1;33m:\u001b[0m\u001b[1;33m\u001b[0m\u001b[1;33m\u001b[0m\u001b[0m\n",
      "\u001b[1;32mc:\\users\\manikandan\\appdata\\local\\programs\\python\\python37\\lib\\site-packages\\pandas\\core\\base.py\u001b[0m in \u001b[0;36m_try_aggregate_string_function\u001b[1;34m(self, arg, *args, **kwargs)\u001b[0m\n\u001b[0;32m    303\u001b[0m         \u001b[1;32mif\u001b[0m \u001b[0mf\u001b[0m \u001b[1;32mis\u001b[0m \u001b[1;32mnot\u001b[0m \u001b[1;32mNone\u001b[0m\u001b[1;33m:\u001b[0m\u001b[1;33m\u001b[0m\u001b[1;33m\u001b[0m\u001b[0m\n\u001b[0;32m    304\u001b[0m             \u001b[1;32mif\u001b[0m \u001b[0mcallable\u001b[0m\u001b[1;33m(\u001b[0m\u001b[0mf\u001b[0m\u001b[1;33m)\u001b[0m\u001b[1;33m:\u001b[0m\u001b[1;33m\u001b[0m\u001b[1;33m\u001b[0m\u001b[0m\n\u001b[1;32m--> 305\u001b[1;33m                 \u001b[1;32mreturn\u001b[0m \u001b[0mf\u001b[0m\u001b[1;33m(\u001b[0m\u001b[1;33m*\u001b[0m\u001b[0margs\u001b[0m\u001b[1;33m,\u001b[0m \u001b[1;33m**\u001b[0m\u001b[0mkwargs\u001b[0m\u001b[1;33m)\u001b[0m\u001b[1;33m\u001b[0m\u001b[1;33m\u001b[0m\u001b[0m\n\u001b[0m\u001b[0;32m    306\u001b[0m \u001b[1;33m\u001b[0m\u001b[0m\n\u001b[0;32m    307\u001b[0m             \u001b[1;31m# people may try to aggregate on a non-callable attribute\u001b[0m\u001b[1;33m\u001b[0m\u001b[1;33m\u001b[0m\u001b[1;33m\u001b[0m\u001b[0m\n",
      "\u001b[1;32mc:\\users\\manikandan\\appdata\\local\\programs\\python\\python37\\lib\\site-packages\\pandas\\core\\groupby\\groupby.py\u001b[0m in \u001b[0;36mmean\u001b[1;34m(self, *args, **kwargs)\u001b[0m\n\u001b[0;32m   1203\u001b[0m         \u001b[1;32mtry\u001b[0m\u001b[1;33m:\u001b[0m\u001b[1;33m\u001b[0m\u001b[1;33m\u001b[0m\u001b[0m\n\u001b[0;32m   1204\u001b[0m             return self._cython_agg_general(\n\u001b[1;32m-> 1205\u001b[1;33m                 \u001b[1;34m\"mean\"\u001b[0m\u001b[1;33m,\u001b[0m \u001b[0malt\u001b[0m\u001b[1;33m=\u001b[0m\u001b[1;32mlambda\u001b[0m \u001b[0mx\u001b[0m\u001b[1;33m,\u001b[0m \u001b[0maxis\u001b[0m\u001b[1;33m:\u001b[0m \u001b[0mSeries\u001b[0m\u001b[1;33m(\u001b[0m\u001b[0mx\u001b[0m\u001b[1;33m)\u001b[0m\u001b[1;33m.\u001b[0m\u001b[0mmean\u001b[0m\u001b[1;33m(\u001b[0m\u001b[1;33m**\u001b[0m\u001b[0mkwargs\u001b[0m\u001b[1;33m)\u001b[0m\u001b[1;33m,\u001b[0m \u001b[1;33m**\u001b[0m\u001b[0mkwargs\u001b[0m\u001b[1;33m\u001b[0m\u001b[1;33m\u001b[0m\u001b[0m\n\u001b[0m\u001b[0;32m   1206\u001b[0m             )\n\u001b[0;32m   1207\u001b[0m         \u001b[1;32mexcept\u001b[0m \u001b[0mGroupByError\u001b[0m\u001b[1;33m:\u001b[0m\u001b[1;33m\u001b[0m\u001b[1;33m\u001b[0m\u001b[0m\n",
      "\u001b[1;32mc:\\users\\manikandan\\appdata\\local\\programs\\python\\python37\\lib\\site-packages\\pandas\\core\\groupby\\generic.py\u001b[0m in \u001b[0;36m_cython_agg_general\u001b[1;34m(self, how, alt, numeric_only, min_count)\u001b[0m\n\u001b[0;32m    126\u001b[0m     \u001b[1;32mdef\u001b[0m \u001b[0m_cython_agg_general\u001b[0m\u001b[1;33m(\u001b[0m\u001b[0mself\u001b[0m\u001b[1;33m,\u001b[0m \u001b[0mhow\u001b[0m\u001b[1;33m,\u001b[0m \u001b[0malt\u001b[0m\u001b[1;33m=\u001b[0m\u001b[1;32mNone\u001b[0m\u001b[1;33m,\u001b[0m \u001b[0mnumeric_only\u001b[0m\u001b[1;33m=\u001b[0m\u001b[1;32mTrue\u001b[0m\u001b[1;33m,\u001b[0m \u001b[0mmin_count\u001b[0m\u001b[1;33m=\u001b[0m\u001b[1;33m-\u001b[0m\u001b[1;36m1\u001b[0m\u001b[1;33m)\u001b[0m\u001b[1;33m:\u001b[0m\u001b[1;33m\u001b[0m\u001b[1;33m\u001b[0m\u001b[0m\n\u001b[0;32m    127\u001b[0m         new_items, new_blocks = self._cython_agg_blocks(\n\u001b[1;32m--> 128\u001b[1;33m             \u001b[0mhow\u001b[0m\u001b[1;33m,\u001b[0m \u001b[0malt\u001b[0m\u001b[1;33m=\u001b[0m\u001b[0malt\u001b[0m\u001b[1;33m,\u001b[0m \u001b[0mnumeric_only\u001b[0m\u001b[1;33m=\u001b[0m\u001b[0mnumeric_only\u001b[0m\u001b[1;33m,\u001b[0m \u001b[0mmin_count\u001b[0m\u001b[1;33m=\u001b[0m\u001b[0mmin_count\u001b[0m\u001b[1;33m\u001b[0m\u001b[1;33m\u001b[0m\u001b[0m\n\u001b[0m\u001b[0;32m    129\u001b[0m         )\n\u001b[0;32m    130\u001b[0m         \u001b[1;32mreturn\u001b[0m \u001b[0mself\u001b[0m\u001b[1;33m.\u001b[0m\u001b[0m_wrap_agged_blocks\u001b[0m\u001b[1;33m(\u001b[0m\u001b[0mnew_items\u001b[0m\u001b[1;33m,\u001b[0m \u001b[0mnew_blocks\u001b[0m\u001b[1;33m)\u001b[0m\u001b[1;33m\u001b[0m\u001b[1;33m\u001b[0m\u001b[0m\n",
      "\u001b[1;32mc:\\users\\manikandan\\appdata\\local\\programs\\python\\python37\\lib\\site-packages\\pandas\\core\\groupby\\generic.py\u001b[0m in \u001b[0;36m_cython_agg_blocks\u001b[1;34m(self, how, alt, numeric_only, min_count)\u001b[0m\n\u001b[0;32m    186\u001b[0m \u001b[1;33m\u001b[0m\u001b[0m\n\u001b[0;32m    187\u001b[0m         \u001b[1;32mif\u001b[0m \u001b[0mlen\u001b[0m\u001b[1;33m(\u001b[0m\u001b[0mnew_blocks\u001b[0m\u001b[1;33m)\u001b[0m \u001b[1;33m==\u001b[0m \u001b[1;36m0\u001b[0m\u001b[1;33m:\u001b[0m\u001b[1;33m\u001b[0m\u001b[1;33m\u001b[0m\u001b[0m\n\u001b[1;32m--> 188\u001b[1;33m             \u001b[1;32mraise\u001b[0m \u001b[0mDataError\u001b[0m\u001b[1;33m(\u001b[0m\u001b[1;34m\"No numeric types to aggregate\"\u001b[0m\u001b[1;33m)\u001b[0m\u001b[1;33m\u001b[0m\u001b[1;33m\u001b[0m\u001b[0m\n\u001b[0m\u001b[0;32m    189\u001b[0m \u001b[1;33m\u001b[0m\u001b[0m\n\u001b[0;32m    190\u001b[0m         \u001b[1;31m# reset the locs in the blocks to correspond to our\u001b[0m\u001b[1;33m\u001b[0m\u001b[1;33m\u001b[0m\u001b[1;33m\u001b[0m\u001b[0m\n",
      "\u001b[1;31mDataError\u001b[0m: No numeric types to aggregate"
     ]
    }
   ],
   "source": [
    "app_data.pivot_table('timestamp', ['hostname','eventName','jobId','taskId'], 'eventType')"
   ]
  },
  {
   "cell_type": "code",
   "execution_count": 11,
   "metadata": {},
   "outputs": [
    {
     "data": {
      "text/html": [
       "<div>\n",
       "<style scoped>\n",
       "    .dataframe tbody tr th:only-of-type {\n",
       "        vertical-align: middle;\n",
       "    }\n",
       "\n",
       "    .dataframe tbody tr th {\n",
       "        vertical-align: top;\n",
       "    }\n",
       "\n",
       "    .dataframe thead th {\n",
       "        text-align: right;\n",
       "    }\n",
       "</style>\n",
       "<table border=\"1\" class=\"dataframe\">\n",
       "  <thead>\n",
       "    <tr style=\"text-align: right;\">\n",
       "      <th></th>\n",
       "      <th>taskId</th>\n",
       "      <th>jobId</th>\n",
       "      <th>x</th>\n",
       "      <th>y</th>\n",
       "      <th>level</th>\n",
       "    </tr>\n",
       "  </thead>\n",
       "  <tbody>\n",
       "    <tr>\n",
       "      <th>0</th>\n",
       "      <td>00004e77-304c-4fbd-88a1-1346ef947567</td>\n",
       "      <td>1024-lvl12-7e026be3-5fd0-48ee-b7d1-abd61f747705</td>\n",
       "      <td>116</td>\n",
       "      <td>178</td>\n",
       "      <td>12</td>\n",
       "    </tr>\n",
       "    <tr>\n",
       "      <th>1</th>\n",
       "      <td>0002afb5-d05e-4da9-bd53-7b6dc19ea6d4</td>\n",
       "      <td>1024-lvl12-7e026be3-5fd0-48ee-b7d1-abd61f747705</td>\n",
       "      <td>142</td>\n",
       "      <td>190</td>\n",
       "      <td>12</td>\n",
       "    </tr>\n",
       "    <tr>\n",
       "      <th>2</th>\n",
       "      <td>0003c380-4db9-49fb-8e1c-6f8ae466ad85</td>\n",
       "      <td>1024-lvl12-7e026be3-5fd0-48ee-b7d1-abd61f747705</td>\n",
       "      <td>142</td>\n",
       "      <td>86</td>\n",
       "      <td>12</td>\n",
       "    </tr>\n",
       "    <tr>\n",
       "      <th>3</th>\n",
       "      <td>000993b6-fc88-489d-a4ca-0a44fd800bd3</td>\n",
       "      <td>1024-lvl12-7e026be3-5fd0-48ee-b7d1-abd61f747705</td>\n",
       "      <td>235</td>\n",
       "      <td>11</td>\n",
       "      <td>12</td>\n",
       "    </tr>\n",
       "    <tr>\n",
       "      <th>4</th>\n",
       "      <td>000b158b-0ba3-4dca-bf5b-1b3bd5c28207</td>\n",
       "      <td>1024-lvl12-7e026be3-5fd0-48ee-b7d1-abd61f747705</td>\n",
       "      <td>171</td>\n",
       "      <td>53</td>\n",
       "      <td>12</td>\n",
       "    </tr>\n",
       "  </tbody>\n",
       "</table>\n",
       "</div>"
      ],
      "text/plain": [
       "                                 taskId  \\\n",
       "0  00004e77-304c-4fbd-88a1-1346ef947567   \n",
       "1  0002afb5-d05e-4da9-bd53-7b6dc19ea6d4   \n",
       "2  0003c380-4db9-49fb-8e1c-6f8ae466ad85   \n",
       "3  000993b6-fc88-489d-a4ca-0a44fd800bd3   \n",
       "4  000b158b-0ba3-4dca-bf5b-1b3bd5c28207   \n",
       "\n",
       "                                             jobId    x    y  level  \n",
       "0  1024-lvl12-7e026be3-5fd0-48ee-b7d1-abd61f747705  116  178     12  \n",
       "1  1024-lvl12-7e026be3-5fd0-48ee-b7d1-abd61f747705  142  190     12  \n",
       "2  1024-lvl12-7e026be3-5fd0-48ee-b7d1-abd61f747705  142   86     12  \n",
       "3  1024-lvl12-7e026be3-5fd0-48ee-b7d1-abd61f747705  235   11     12  \n",
       "4  1024-lvl12-7e026be3-5fd0-48ee-b7d1-abd61f747705  171   53     12  "
      ]
     },
     "execution_count": 11,
     "metadata": {},
     "output_type": "execute_result"
    }
   ],
   "source": [
    "task_data.head(5)"
   ]
  },
  {
   "cell_type": "code",
   "execution_count": 12,
   "metadata": {},
   "outputs": [
    {
     "data": {
      "text/plain": [
       "Index(['timestamp', 'hostname', 'gpuSerial', 'gpuUUID', 'powerDrawWatt',\n",
       "       'gpuTempC', 'gpuUtilPerc', 'gpuMemUtilPerc'],\n",
       "      dtype='object')"
      ]
     },
     "execution_count": 12,
     "metadata": {},
     "output_type": "execute_result"
    }
   ],
   "source": [
    "gpu_data.columns"
   ]
  },
  {
   "cell_type": "code",
   "execution_count": 13,
   "metadata": {},
   "outputs": [
    {
     "data": {
      "text/plain": [
       "Index(['timestamp', 'hostname', 'eventName', 'eventType', 'jobId', 'taskId'], dtype='object')"
      ]
     },
     "execution_count": 13,
     "metadata": {},
     "output_type": "execute_result"
    }
   ],
   "source": [
    "app_data.columns"
   ]
  },
  {
   "cell_type": "code",
   "execution_count": 14,
   "metadata": {},
   "outputs": [
    {
     "data": {
      "text/plain": [
       "Index(['taskId', 'jobId', 'x', 'y', 'level'], dtype='object')"
      ]
     },
     "execution_count": 14,
     "metadata": {},
     "output_type": "execute_result"
    }
   ],
   "source": [
    "task_data.columns"
   ]
  },
  {
   "cell_type": "code",
   "execution_count": 29,
   "metadata": {
    "scrolled": true
   },
   "outputs": [
    {
     "data": {
      "text/html": [
       "<div>\n",
       "<style scoped>\n",
       "    .dataframe tbody tr th:only-of-type {\n",
       "        vertical-align: middle;\n",
       "    }\n",
       "\n",
       "    .dataframe tbody tr th {\n",
       "        vertical-align: top;\n",
       "    }\n",
       "\n",
       "    .dataframe thead th {\n",
       "        text-align: right;\n",
       "    }\n",
       "</style>\n",
       "<table border=\"1\" class=\"dataframe\">\n",
       "  <thead>\n",
       "    <tr style=\"text-align: right;\">\n",
       "      <th></th>\n",
       "      <th>hostname</th>\n",
       "      <th>eventName</th>\n",
       "      <th>x</th>\n",
       "      <th>y</th>\n",
       "      <th>level</th>\n",
       "      <th>powerDrawWatt</th>\n",
       "      <th>gpuTempC</th>\n",
       "      <th>gpuUtilPerc</th>\n",
       "      <th>gpuMemUtilPerc</th>\n",
       "      <th>start_time</th>\n",
       "      <th>stop_time</th>\n",
       "      <th>gpuUUID</th>\n",
       "    </tr>\n",
       "  </thead>\n",
       "  <tbody>\n",
       "    <tr>\n",
       "      <th>0</th>\n",
       "      <td>0d56a730076643d585f77e00d2d8521a00000Q</td>\n",
       "      <td>TotalRender</td>\n",
       "      <td>156</td>\n",
       "      <td>186</td>\n",
       "      <td>12</td>\n",
       "      <td>96.807273</td>\n",
       "      <td>37.590909</td>\n",
       "      <td>70.318182</td>\n",
       "      <td>37.863636</td>\n",
       "      <td>2018-11-08 08:27:10.606000</td>\n",
       "      <td>2018-11-08 08:27:54.895000</td>\n",
       "      <td>GPU-d84a1024-9381-c725-3b85-dd7143e64c35</td>\n",
       "    </tr>\n",
       "    <tr>\n",
       "      <th>1</th>\n",
       "      <td>0d56a730076643d585f77e00d2d8521a00000Q</td>\n",
       "      <td>Render</td>\n",
       "      <td>156</td>\n",
       "      <td>186</td>\n",
       "      <td>12</td>\n",
       "      <td>96.807273</td>\n",
       "      <td>37.590909</td>\n",
       "      <td>70.318182</td>\n",
       "      <td>37.863636</td>\n",
       "      <td>2018-11-08 08:27:10.608000</td>\n",
       "      <td>2018-11-08 08:27:53.796000</td>\n",
       "      <td>GPU-d84a1024-9381-c725-3b85-dd7143e64c35</td>\n",
       "    </tr>\n",
       "    <tr>\n",
       "      <th>2</th>\n",
       "      <td>83ea61ac1ef54f27a3bf7bd0f41ecaa700000J</td>\n",
       "      <td>Uploading</td>\n",
       "      <td>200</td>\n",
       "      <td>23</td>\n",
       "      <td>12</td>\n",
       "      <td>42.440000</td>\n",
       "      <td>41.000000</td>\n",
       "      <td>0.000000</td>\n",
       "      <td>0.000000</td>\n",
       "      <td>2018-11-08 08:27:10.839000</td>\n",
       "      <td>2018-11-08 08:27:11.893000</td>\n",
       "      <td>GPU-8792a29c-529e-1837-1806-c669cd9b1960</td>\n",
       "    </tr>\n",
       "    <tr>\n",
       "      <th>3</th>\n",
       "      <td>83ea61ac1ef54f27a3bf7bd0f41ecaa700000J</td>\n",
       "      <td>Tiling</td>\n",
       "      <td>200</td>\n",
       "      <td>23</td>\n",
       "      <td>12</td>\n",
       "      <td>42.440000</td>\n",
       "      <td>41.000000</td>\n",
       "      <td>0.000000</td>\n",
       "      <td>0.000000</td>\n",
       "      <td>2018-11-08 08:27:10.846000</td>\n",
       "      <td>2018-11-08 08:27:11.882000</td>\n",
       "      <td>GPU-8792a29c-529e-1837-1806-c669cd9b1960</td>\n",
       "    </tr>\n",
       "    <tr>\n",
       "      <th>4</th>\n",
       "      <td>b9a1fa7ae2f74eb68f25f607980f97d700000H</td>\n",
       "      <td>TotalRender</td>\n",
       "      <td>160</td>\n",
       "      <td>14</td>\n",
       "      <td>12</td>\n",
       "      <td>91.566957</td>\n",
       "      <td>38.695652</td>\n",
       "      <td>71.000000</td>\n",
       "      <td>39.913043</td>\n",
       "      <td>2018-11-08 08:27:10.612000</td>\n",
       "      <td>2018-11-08 08:27:56.265000</td>\n",
       "      <td>GPU-38bbf3b6-80fb-7e6f-6678-ee45035507ab</td>\n",
       "    </tr>\n",
       "  </tbody>\n",
       "</table>\n",
       "</div>"
      ],
      "text/plain": [
       "                                 hostname    eventName    x    y  level  \\\n",
       "0  0d56a730076643d585f77e00d2d8521a00000Q  TotalRender  156  186     12   \n",
       "1  0d56a730076643d585f77e00d2d8521a00000Q       Render  156  186     12   \n",
       "2  83ea61ac1ef54f27a3bf7bd0f41ecaa700000J    Uploading  200   23     12   \n",
       "3  83ea61ac1ef54f27a3bf7bd0f41ecaa700000J       Tiling  200   23     12   \n",
       "4  b9a1fa7ae2f74eb68f25f607980f97d700000H  TotalRender  160   14     12   \n",
       "\n",
       "   powerDrawWatt   gpuTempC  gpuUtilPerc  gpuMemUtilPerc  \\\n",
       "0      96.807273  37.590909    70.318182       37.863636   \n",
       "1      96.807273  37.590909    70.318182       37.863636   \n",
       "2      42.440000  41.000000     0.000000        0.000000   \n",
       "3      42.440000  41.000000     0.000000        0.000000   \n",
       "4      91.566957  38.695652    71.000000       39.913043   \n",
       "\n",
       "                   start_time                   stop_time  \\\n",
       "0  2018-11-08 08:27:10.606000  2018-11-08 08:27:54.895000   \n",
       "1  2018-11-08 08:27:10.608000  2018-11-08 08:27:53.796000   \n",
       "2  2018-11-08 08:27:10.839000  2018-11-08 08:27:11.893000   \n",
       "3  2018-11-08 08:27:10.846000  2018-11-08 08:27:11.882000   \n",
       "4  2018-11-08 08:27:10.612000  2018-11-08 08:27:56.265000   \n",
       "\n",
       "                                    gpuUUID  \n",
       "0  GPU-d84a1024-9381-c725-3b85-dd7143e64c35  \n",
       "1  GPU-d84a1024-9381-c725-3b85-dd7143e64c35  \n",
       "2  GPU-8792a29c-529e-1837-1806-c669cd9b1960  \n",
       "3  GPU-8792a29c-529e-1837-1806-c669cd9b1960  \n",
       "4  GPU-38bbf3b6-80fb-7e6f-6678-ee45035507ab  "
      ]
     },
     "execution_count": 29,
     "metadata": {},
     "output_type": "execute_result"
    }
   ],
   "source": [
    "# merging the datasets to form a final dataset\n",
    "\n",
    "TIMESTAMP_FORMAT = '%Y-%m-%dT%H:%M:%S.%fZ'\n",
    "\n",
    "def timestamp_conversion(df):\n",
    "\n",
    "    df = df.apply(lambda x: (datetime.strptime(x, TIMESTAMP_FORMAT)))    \n",
    "    return(df)\n",
    "\n",
    "\n",
    "def clean_gpu(gpu_df):\n",
    "\n",
    "    gpu_df['timestamp'] = timestamp_conversion(gpu_df['timestamp'])\n",
    "    return(gpu_df)\n",
    "\n",
    "def merge_check_task(checkpoints_df, tasks_df):\n",
    "\n",
    "\n",
    "    # Use left join on taskId and jobId\n",
    "\n",
    "    check_task_df = checkpoints_df.merge(tasks_df,on=['taskId', 'jobId'], how='left')\n",
    "    return (check_task_df)\n",
    "\n",
    "\n",
    "def clean_check_task(check_task_df):\n",
    "\n",
    "    # Fix date format\n",
    "    \n",
    "    check_task_df['timestamp'] = timestamp_conv(check_task_df['timestamp'])\n",
    "\n",
    "    return(check_task_df)\n",
    "\n",
    "\n",
    "def merge_check_task_gpu(gpu_df, check_task_df):\n",
    "\n",
    "        \n",
    "    # Record start and stop times for events and drop old timestamps\n",
    "\n",
    "    check_task_df_start = check_task_df[\n",
    "    check_task_df['eventType'] == 'START']\n",
    "    check_task_df_stop = check_task_df[\n",
    "    check_task_df['eventType'] == 'STOP']\n",
    "\n",
    "    check_task_df_start.rename(index=str, columns={\"timestamp\": \"start_time\"}, inplace = True)\n",
    "    check_task_df_stop.rename(index=str, columns={\"timestamp\": \"stop_time\"}, inplace = True)\n",
    "\n",
    "    check_task_df_stop.drop('eventType', axis = 1, inplace = True)\n",
    "    check_task_df_start.drop('eventType', axis = 1, inplace = True)\n",
    "   \n",
    "    # Make each field record start and stop combined\n",
    "   \n",
    "    check_task_df = pd.merge( check_task_df_start, check_task_df_stop,on=['hostname', 'eventName', 'x', 'y', 'level'])\n",
    "   \n",
    "    # Remove any timestamps that occur out of the gpu dataset\n",
    "   \n",
    "    check_task_df = check_task_df[\n",
    "            (check_task_df['start_time'] >= gpu_df['timestamp'][0]) &\n",
    "            (check_task_df['stop_time']\n",
    "            <= gpu_df['timestamp'][len(gpu_df)-1])]\n",
    "   \n",
    "    # Use sqllite to only combine with gpu if timestamp is between times\n",
    "\n",
    "    # connection to sql\n",
    "    conn = sqlite3.connect(':memory:')\n",
    "\n",
    "    # move dataframes to sql\n",
    "    check_task_df.to_sql('CheckTask', conn, index=False)\n",
    "    gpu_df.to_sql('Gpu', conn, index=False)\n",
    "\n",
    "    # SQL query\n",
    "    query = '''\n",
    "    SELECT *\n",
    "    FROM Gpu\n",
    "    LEFT JOIN CheckTask ON gpu.hostname = CheckTask.hostname\n",
    "    WHERE gpu.timestamp >= CheckTask.start_time \n",
    "        AND gpu.timestamp <= CheckTask.stop_time\n",
    "    '''\n",
    "    # get new df\n",
    "    merged_df = pd.read_sql_query(query, conn)\n",
    "    \n",
    "    # drop duplicate hostname row (index 8)\n",
    "    merged_df = merged_df.loc[:,~merged_df.columns.duplicated()]\n",
    "    \n",
    "    # group for averages (average stats for every task)\n",
    "    \n",
    "    functions = {\n",
    "        'powerDrawWatt': 'mean', 'gpuTempC': 'mean',\n",
    "        'gpuUtilPerc': 'mean', 'gpuMemUtilPerc': 'mean',\n",
    "        'start_time': 'first', 'stop_time': 'first', \n",
    "        'gpuUUID' : 'first'}\n",
    "    \n",
    "    merged_df = merged_df.groupby(\n",
    "        ['hostname', 'eventName', 'x', 'y', 'level'],\n",
    "        as_index=False, sort=False\n",
    "    ).agg(functions)\n",
    "\n",
    "    return(merged_df)\n",
    "\n",
    "\n",
    "gpu_df = pd.read_csv(\"./Documents/gpu.csv\")\n",
    "checkpoints_df = pd.read_csv(\"./Documents/application-checkpoints.csv\")\n",
    "tasks_df =pd.read_csv(\"./Documents/task-x-y.csv\")\n",
    "    \n",
    "# Cleaning and merging process    \n",
    "gpu_df = clean_gpu(gpu_df)\n",
    "check_task_df = merge_check_task(checkpoints_df, tasks_df)\n",
    "check_task_df = clean_check_task(check_task_df)  \n",
    "final_df = merge_check_task_gpu(gpu_df, check_task_df)\n",
    "final_df.head(5)"
   ]
  },
  {
   "cell_type": "code",
   "execution_count": 170,
   "metadata": {},
   "outputs": [],
   "source": [
    "TIMESTAMP_FORMAT = '%Y-%m-%d %H:%M:%S'\n"
   ]
  },
  {
   "cell_type": "code",
   "execution_count": 171,
   "metadata": {},
   "outputs": [],
   "source": [
    "final_df['start']=pd.to_datetime(final_df['start_time'],format=TIMESTAMP_FORMAT, errors='ignore')\n",
    "final_df['stop']=pd.to_datetime(final_df['stop_time'],format=TIMESTAMP_FORMAT, errors='ignore')"
   ]
  },
  {
   "cell_type": "code",
   "execution_count": 172,
   "metadata": {},
   "outputs": [
    {
     "data": {
      "text/html": [
       "<div>\n",
       "<style scoped>\n",
       "    .dataframe tbody tr th:only-of-type {\n",
       "        vertical-align: middle;\n",
       "    }\n",
       "\n",
       "    .dataframe tbody tr th {\n",
       "        vertical-align: top;\n",
       "    }\n",
       "\n",
       "    .dataframe thead th {\n",
       "        text-align: right;\n",
       "    }\n",
       "</style>\n",
       "<table border=\"1\" class=\"dataframe\">\n",
       "  <thead>\n",
       "    <tr style=\"text-align: right;\">\n",
       "      <th></th>\n",
       "      <th>hostname</th>\n",
       "      <th>eventName</th>\n",
       "      <th>x</th>\n",
       "      <th>y</th>\n",
       "      <th>level</th>\n",
       "      <th>powerDrawWatt</th>\n",
       "      <th>gpuTempC</th>\n",
       "      <th>gpuUtilPerc</th>\n",
       "      <th>gpuMemUtilPerc</th>\n",
       "      <th>start_time</th>\n",
       "      <th>stop_time</th>\n",
       "      <th>gpuUUID</th>\n",
       "      <th>time_difference</th>\n",
       "      <th>start</th>\n",
       "      <th>stop</th>\n",
       "    </tr>\n",
       "  </thead>\n",
       "  <tbody>\n",
       "    <tr>\n",
       "      <th>0</th>\n",
       "      <td>0d56a730076643d585f77e00d2d8521a00000Q</td>\n",
       "      <td>TotalRender</td>\n",
       "      <td>156</td>\n",
       "      <td>186</td>\n",
       "      <td>12</td>\n",
       "      <td>96.807273</td>\n",
       "      <td>37.590909</td>\n",
       "      <td>70.318182</td>\n",
       "      <td>37.863636</td>\n",
       "      <td>2018-11-08 08:27:10.606</td>\n",
       "      <td>2018-11-08 08:27:54.895</td>\n",
       "      <td>GPU-d84a1024-9381-c725-3b85-dd7143e64c35</td>\n",
       "      <td>44.0</td>\n",
       "      <td>2018-11-08 08:27:10.606</td>\n",
       "      <td>2018-11-08 08:27:54.895</td>\n",
       "    </tr>\n",
       "    <tr>\n",
       "      <th>1</th>\n",
       "      <td>0d56a730076643d585f77e00d2d8521a00000Q</td>\n",
       "      <td>Render</td>\n",
       "      <td>156</td>\n",
       "      <td>186</td>\n",
       "      <td>12</td>\n",
       "      <td>96.807273</td>\n",
       "      <td>37.590909</td>\n",
       "      <td>70.318182</td>\n",
       "      <td>37.863636</td>\n",
       "      <td>2018-11-08 08:27:10.608</td>\n",
       "      <td>2018-11-08 08:27:53.796</td>\n",
       "      <td>GPU-d84a1024-9381-c725-3b85-dd7143e64c35</td>\n",
       "      <td>43.0</td>\n",
       "      <td>2018-11-08 08:27:10.608</td>\n",
       "      <td>2018-11-08 08:27:53.796</td>\n",
       "    </tr>\n",
       "    <tr>\n",
       "      <th>2</th>\n",
       "      <td>83ea61ac1ef54f27a3bf7bd0f41ecaa700000J</td>\n",
       "      <td>Uploading</td>\n",
       "      <td>200</td>\n",
       "      <td>23</td>\n",
       "      <td>12</td>\n",
       "      <td>42.440000</td>\n",
       "      <td>41.000000</td>\n",
       "      <td>0.000000</td>\n",
       "      <td>0.000000</td>\n",
       "      <td>2018-11-08 08:27:10.839</td>\n",
       "      <td>2018-11-08 08:27:11.893</td>\n",
       "      <td>GPU-8792a29c-529e-1837-1806-c669cd9b1960</td>\n",
       "      <td>1.0</td>\n",
       "      <td>2018-11-08 08:27:10.839</td>\n",
       "      <td>2018-11-08 08:27:11.893</td>\n",
       "    </tr>\n",
       "    <tr>\n",
       "      <th>3</th>\n",
       "      <td>83ea61ac1ef54f27a3bf7bd0f41ecaa700000J</td>\n",
       "      <td>Tiling</td>\n",
       "      <td>200</td>\n",
       "      <td>23</td>\n",
       "      <td>12</td>\n",
       "      <td>42.440000</td>\n",
       "      <td>41.000000</td>\n",
       "      <td>0.000000</td>\n",
       "      <td>0.000000</td>\n",
       "      <td>2018-11-08 08:27:10.846</td>\n",
       "      <td>2018-11-08 08:27:11.882</td>\n",
       "      <td>GPU-8792a29c-529e-1837-1806-c669cd9b1960</td>\n",
       "      <td>1.0</td>\n",
       "      <td>2018-11-08 08:27:10.846</td>\n",
       "      <td>2018-11-08 08:27:11.882</td>\n",
       "    </tr>\n",
       "    <tr>\n",
       "      <th>4</th>\n",
       "      <td>b9a1fa7ae2f74eb68f25f607980f97d700000H</td>\n",
       "      <td>TotalRender</td>\n",
       "      <td>160</td>\n",
       "      <td>14</td>\n",
       "      <td>12</td>\n",
       "      <td>91.566957</td>\n",
       "      <td>38.695652</td>\n",
       "      <td>71.000000</td>\n",
       "      <td>39.913043</td>\n",
       "      <td>2018-11-08 08:27:10.612</td>\n",
       "      <td>2018-11-08 08:27:56.265</td>\n",
       "      <td>GPU-38bbf3b6-80fb-7e6f-6678-ee45035507ab</td>\n",
       "      <td>45.0</td>\n",
       "      <td>2018-11-08 08:27:10.612</td>\n",
       "      <td>2018-11-08 08:27:56.265</td>\n",
       "    </tr>\n",
       "  </tbody>\n",
       "</table>\n",
       "</div>"
      ],
      "text/plain": [
       "                                 hostname    eventName    x    y  level  \\\n",
       "0  0d56a730076643d585f77e00d2d8521a00000Q  TotalRender  156  186     12   \n",
       "1  0d56a730076643d585f77e00d2d8521a00000Q       Render  156  186     12   \n",
       "2  83ea61ac1ef54f27a3bf7bd0f41ecaa700000J    Uploading  200   23     12   \n",
       "3  83ea61ac1ef54f27a3bf7bd0f41ecaa700000J       Tiling  200   23     12   \n",
       "4  b9a1fa7ae2f74eb68f25f607980f97d700000H  TotalRender  160   14     12   \n",
       "\n",
       "   powerDrawWatt   gpuTempC  gpuUtilPerc  gpuMemUtilPerc  \\\n",
       "0      96.807273  37.590909    70.318182       37.863636   \n",
       "1      96.807273  37.590909    70.318182       37.863636   \n",
       "2      42.440000  41.000000     0.000000        0.000000   \n",
       "3      42.440000  41.000000     0.000000        0.000000   \n",
       "4      91.566957  38.695652    71.000000       39.913043   \n",
       "\n",
       "               start_time               stop_time  \\\n",
       "0 2018-11-08 08:27:10.606 2018-11-08 08:27:54.895   \n",
       "1 2018-11-08 08:27:10.608 2018-11-08 08:27:53.796   \n",
       "2 2018-11-08 08:27:10.839 2018-11-08 08:27:11.893   \n",
       "3 2018-11-08 08:27:10.846 2018-11-08 08:27:11.882   \n",
       "4 2018-11-08 08:27:10.612 2018-11-08 08:27:56.265   \n",
       "\n",
       "                                    gpuUUID  time_difference  \\\n",
       "0  GPU-d84a1024-9381-c725-3b85-dd7143e64c35             44.0   \n",
       "1  GPU-d84a1024-9381-c725-3b85-dd7143e64c35             43.0   \n",
       "2  GPU-8792a29c-529e-1837-1806-c669cd9b1960              1.0   \n",
       "3  GPU-8792a29c-529e-1837-1806-c669cd9b1960              1.0   \n",
       "4  GPU-38bbf3b6-80fb-7e6f-6678-ee45035507ab             45.0   \n",
       "\n",
       "                    start                    stop  \n",
       "0 2018-11-08 08:27:10.606 2018-11-08 08:27:54.895  \n",
       "1 2018-11-08 08:27:10.608 2018-11-08 08:27:53.796  \n",
       "2 2018-11-08 08:27:10.839 2018-11-08 08:27:11.893  \n",
       "3 2018-11-08 08:27:10.846 2018-11-08 08:27:11.882  \n",
       "4 2018-11-08 08:27:10.612 2018-11-08 08:27:56.265  "
      ]
     },
     "execution_count": 172,
     "metadata": {},
     "output_type": "execute_result"
    }
   ],
   "source": [
    "final_df.head(5)"
   ]
  },
  {
   "cell_type": "markdown",
   "metadata": {},
   "source": [
    "## Event types dominating task runtime"
   ]
  },
  {
   "cell_type": "code",
   "execution_count": 37,
   "metadata": {},
   "outputs": [
    {
     "data": {
      "image/png": "[encoded data removed]",
      "text/plain": [
       "<Figure size 1080x576 with 1 Axes>"
      ]
     },
     "metadata": {
      "needs_background": "light"
     },
     "output_type": "display_data"
    }
   ],
   "source": [
    "event_deltas = final_df[final_df['eventName'] != 'TotalRender'].groupby(\n",
    "    ['eventName']).apply(lambda x: x.stop_time - x.start_time)\n",
    "\n",
    "# sum execution times\n",
    "event_deltas.groupby(['eventName']).sum().plot(kind = 'bar')\n",
    "\n",
    "plt.ylabel('Time')\n",
    "plt.title('Event Types dominating task runtime')\n",
    "plt.rcParams['figure.figsize'] = [15, 8]"
   ]
  },
  {
   "cell_type": "markdown",
   "metadata": {},
   "source": [
    "### It looks like rendering event took most of the time in GPU. Whereas saving configuration hardly had any impact on GPU"
   ]
  },
  {
   "cell_type": "markdown",
   "metadata": {},
   "source": [
    "## No. of tasks assigned by GPU"
   ]
  },
  {
   "cell_type": "code",
   "execution_count": 144,
   "metadata": {},
   "outputs": [
    {
     "data": {
      "image/png": "[encoded data removed]",
      "text/plain": [
       "<Figure size 576x432 with 1 Axes>"
      ]
     },
     "metadata": {
      "needs_background": "light"
     },
     "output_type": "display_data"
    }
   ],
   "source": [
    "final_df['hostname'].value_counts().plot(kind = 'hist')\n",
    "plt.xlabel('Number of Tasks Assigned')\n",
    "plt.title('Tasks Assigned by GPU Histogram')\n",
    "\n",
    "plt.rcParams['figure.figsize'] = [15, 8]\n",
    "\n",
    "\n",
    "plt.show()"
   ]
  },
  {
   "cell_type": "markdown",
   "metadata": {},
   "source": [
    "### The majority of GPUs are assigned 7 to 12 tasks on an average"
   ]
  },
  {
   "cell_type": "markdown",
   "metadata": {},
   "source": [
    "## Distribution of GPU statistics"
   ]
  },
  {
   "cell_type": "code",
   "execution_count": 279,
   "metadata": {},
   "outputs": [
    {
     "data": {
      "image/png": "[encoded data removed]",
      "text/plain": [
       "<Figure size 576x432 with 1 Axes>"
      ]
     },
     "metadata": {
      "needs_background": "light"
     },
     "output_type": "display_data"
    }
   ],
   "source": [
    "\n",
    "gpu_stats_labels = ['Power (W)','Temperature (C)','GPU Util.(%)','Memory Util.(%)']\n",
    "plt.boxplot([final_df['powerDrawWatt'], final_df['gpuTempC'], \n",
    "             final_df['gpuUtilPerc'], final_df['gpuMemUtilPerc']])\n",
    "plt.xticks([i+1 for i, _ in enumerate(gpu_stats_labels)],\n",
    "           gpu_stats_labels, rotation='vertical')\n",
    "plt.title('Distribution of GPU Statistics')\n",
    "plt.rcParams['figure.figsize'] = [20, 8]\n",
    "\n",
    "plt.show()"
   ]
  },
  {
   "cell_type": "markdown",
   "metadata": {},
   "source": [
    "### The power consumption by the GPUs had an average of 80%, while the memory consumption and temperature were the least as in around 40C. The GPU utilisation was around 70% which seems to be decent enough"
   ]
  },
  {
   "cell_type": "markdown",
   "metadata": {},
   "source": [
    "## Identify particular GPU cards (based on their serial numbers) whose performance differs to other cards? "
   ]
  },
  {
   "cell_type": "code",
   "execution_count": 139,
   "metadata": {},
   "outputs": [],
   "source": [
    "slower_gpu_df=final_df[(final_df['time_difference'] >= render_time_median)]\n",
    "slower_gpu_hostname=slower_gpu_df.hostname\n",
    "merged_df=gpu_data.merge(slower_gpu_df,on=\"hostname\")\n",
    "slower_gpu_df_sorted= slower_gpu_df.sort_values('time_difference', ascending=False)"
   ]
  },
  {
   "cell_type": "code",
   "execution_count": 176,
   "metadata": {},
   "outputs": [],
   "source": [
    "top10_slowest=slower_gpu_df_sorted.nlargest(10,\"time_difference\")\n",
    "top10_slowestgpu=top10_slowest[\"hostname\"]"
   ]
  },
  {
   "cell_type": "code",
   "execution_count": 188,
   "metadata": {},
   "outputs": [
    {
     "data": {
      "text/plain": [
       "3259    0745914f4de046078517041d70b22fe7000009\n",
       "3260    0745914f4de046078517041d70b22fe7000009\n",
       "2595    6139a35676de44d6b61ec247f0ed865700001B\n",
       "2596    6139a35676de44d6b61ec247f0ed865700001B\n",
       "2987    2ecb9d8d51bc457aac88073f6da0546100000F\n",
       "3183    04dc4e9647154250beeee51b866b0715000001\n",
       "2988    2ecb9d8d51bc457aac88073f6da0546100000F\n",
       "4730    b9a1fa7ae2f74eb68f25f607980f97d700000H\n",
       "3184    04dc4e9647154250beeee51b866b0715000001\n",
       "2935    83ea61ac1ef54f27a3bf7bd0f41ecaa7000011\n",
       "Name: hostname, dtype: object"
      ]
     },
     "execution_count": 188,
     "metadata": {},
     "output_type": "execute_result"
    }
   ],
   "source": [
    "top10_slowestgpu"
   ]
  },
  {
   "cell_type": "code",
   "execution_count": 199,
   "metadata": {},
   "outputs": [],
   "source": [
    "serial_gpu_data=gpu_data[[\"hostname\",\"gpuSerial\"]]\n",
    "\n",
    "slowest_gpu_data=serial_gpu_data.merge(top10_slowestgpu.to_frame(),left_index=True, right_index=True)"
   ]
  },
  {
   "cell_type": "markdown",
   "metadata": {},
   "source": [
    "# Top 10 slowest performing GPUs by their serial number"
   ]
  },
  {
   "cell_type": "code",
   "execution_count": 201,
   "metadata": {},
   "outputs": [
    {
     "data": {
      "text/plain": [
       "2595    323617021242\n",
       "2596    323617020414\n",
       "2935    325017048638\n",
       "2987    325217085174\n",
       "2988    325017019589\n",
       "3183    323617020145\n",
       "3184    323617020179\n",
       "3259    325117172395\n",
       "3260    320118119713\n",
       "4730    320218055639\n",
       "Name: gpuSerial, dtype: int64"
      ]
     },
     "execution_count": 201,
     "metadata": {},
     "output_type": "execute_result"
    }
   ],
   "source": [
    "slowest_gpu_data[\"gpuSerial\"]"
   ]
  },
  {
   "cell_type": "markdown",
   "metadata": {},
   "source": [
    "## Render event statistics"
   ]
  },
  {
   "cell_type": "code",
   "execution_count": 251,
   "metadata": {},
   "outputs": [
    {
     "data": {
      "image/png": "[encoded data removed]",
      "text/plain": [
       "<Figure size 1440x576 with 1 Axes>"
      ]
     },
     "metadata": {
      "needs_background": "light"
     },
     "output_type": "display_data"
    }
   ],
   "source": [
    "\n",
    "plt.boxplot(\n",
    "    [final_df[final_df['eventName'] == 'Render']['powerDrawWatt'],\n",
    "    final_df[final_df['eventName'] == 'Render']['gpuTempC'],\n",
    "    final_df[final_df['eventName'] == 'Render']['gpuUtilPerc'],\n",
    "    final_df[final_df['eventName'] == 'Render']['gpuMemUtilPerc']])\n",
    " \n",
    "# setup labels and titles\n",
    "\n",
    "plt.title('Distribution of GPU Statistics in Render Event')\n",
    "plt.xlabel('GPU Statistic')\n",
    "plt.xticks([i+1 for i, _ in enumerate(gpu_stats_labels)],\n",
    "           gpu_stats_labels, rotation='vertical')\n",
    "\n",
    "\n",
    "# draw plot\n",
    "\n",
    "plt.rcParams['figure.figsize'] = [8, 6]\n",
    "plt.show()"
   ]
  },
  {
   "cell_type": "markdown",
   "metadata": {},
   "source": [
    "## Tiling event statistics"
   ]
  },
  {
   "cell_type": "code",
   "execution_count": 252,
   "metadata": {},
   "outputs": [
    {
     "data": {
      "image/png": "[encoded data removed]",
      "text/plain": [
       "<Figure size 576x432 with 1 Axes>"
      ]
     },
     "metadata": {
      "needs_background": "light"
     },
     "output_type": "display_data"
    }
   ],
   "source": [
    "\n",
    "\n",
    "plt.boxplot(\n",
    "    [final_df[final_df['eventName'] == 'Tiling']['powerDrawWatt'],\n",
    "    final_df[final_df['eventName'] == 'Tiling']['gpuTempC'],\n",
    "    final_df[final_df['eventName'] == 'Tiling']['gpuUtilPerc'],\n",
    "    final_df[final_df['eventName'] == 'Tiling']['gpuMemUtilPerc']])\n",
    " \n",
    "# setup labels and titles\n",
    "\n",
    "plt.title('Distribution of GPU Statistics in Tiling Event')\n",
    "plt.xticks([i+1 for i, _ in enumerate(gpu_stats_labels)],\n",
    "           gpu_stats_labels, rotation='vertical')\n",
    "\n",
    "\n",
    "# draw plot\n",
    "\n",
    "plt.rcParams['figure.figsize'] = [8, 6]\n",
    "plt.show()"
   ]
  },
  {
   "cell_type": "markdown",
   "metadata": {},
   "source": [
    "## Uploading event statistics"
   ]
  },
  {
   "cell_type": "code",
   "execution_count": 253,
   "metadata": {},
   "outputs": [
    {
     "data": {
      "image/png": "[encoded data removed]",
      "text/plain": [
       "<Figure size 576x432 with 1 Axes>"
      ]
     },
     "metadata": {
      "needs_background": "light"
     },
     "output_type": "display_data"
    }
   ],
   "source": [
    "plt.boxplot(\n",
    "    [final_df[final_df['eventName'] == 'Uploading']['powerDrawWatt'],\n",
    "     final_df[final_df['eventName'] == 'Uploading']['gpuTempC'],\n",
    "     final_df[final_df['eventName'] == 'Uploading']['gpuUtilPerc'],\n",
    "     final_df[final_df['eventName'] == 'Uploading']['gpuMemUtilPerc']])\n",
    " \n",
    "# setup labels and titles\n",
    "\n",
    "plt.title('Distribution of GPU Statistics in Uploading Event')\n",
    "plt.xticks([i+1 for i, _ in enumerate(gpu_stats_labels)],\n",
    "           gpu_stats_labels, rotation='vertical')\n",
    "\n",
    "\n",
    "# draw plot\n",
    "\n",
    "plt.rcParams['figure.figsize'] = [8, 6]\n",
    "plt.show()"
   ]
  },
  {
   "cell_type": "markdown",
   "metadata": {},
   "source": [
    "## Interplay between GPU temperature and performance"
   ]
  },
  {
   "cell_type": "code",
   "execution_count": 273,
   "metadata": {},
   "outputs": [],
   "source": [
    "# Calculating the median temperature of the GPU and creating two datasets with values above and below the median\n",
    "temp_med = statistics.median(final_df['gpuTempC'])\n",
    "below_med_temp = final_df[(final_df['gpuTempC'] <= temp_med) &(final_df['eventName'] == 'Render')].groupby(['eventName'])\n",
    "above_med_temp = final_df[(final_df['gpuTempC'] >= temp_med) &(final_df['eventName'] == 'Render')].groupby(['eventName'])"
   ]
  },
  {
   "cell_type": "code",
   "execution_count": 274,
   "metadata": {},
   "outputs": [
    {
     "data": {
      "text/plain": [
       "Render    AxesSubplot(0.1,0.15;0.8x0.75)\n",
       "dtype: object"
      ]
     },
     "execution_count": 274,
     "metadata": {},
     "output_type": "execute_result"
    },
    {
     "data": {
      "image/png": "[encoded data removed]",
      "text/plain": [
       "<Figure size 576x432 with 1 Axes>"
      ]
     },
     "metadata": {
      "needs_background": "light"
     },
     "output_type": "display_data"
    }
   ],
   "source": [
    "below_med_temp.boxplot(column=[\"gpuTempC\",\"time_difference\"])"
   ]
  },
  {
   "cell_type": "code",
   "execution_count": 275,
   "metadata": {},
   "outputs": [
    {
     "data": {
      "text/plain": [
       "Render    AxesSubplot(0.1,0.15;0.8x0.75)\n",
       "dtype: object"
      ]
     },
     "execution_count": 275,
     "metadata": {},
     "output_type": "execute_result"
    },
    {
     "data": {
      "image/png": "[encoded data removed]",
      "text/plain": [
       "<Figure size 576x432 with 1 Axes>"
      ]
     },
     "metadata": {
      "needs_background": "light"
     },
     "output_type": "display_data"
    }
   ],
   "source": [
    "above_med_temp.boxplot(column=[\"gpuTempC\",\"time_difference\"])"
   ]
  },
  {
   "cell_type": "markdown",
   "metadata": {},
   "source": [
    "## Interplay between increased power draw and render time"
   ]
  },
  {
   "cell_type": "code",
   "execution_count": 276,
   "metadata": {},
   "outputs": [],
   "source": [
    "# Calculating the median power drawn of the GPU and creating two datasets with values above and below the median\n",
    "power_med = statistics.median(final_df['powerDrawWatt'])\n",
    "below_med_power = final_df[(final_df['powerDrawWatt'] <= power_med) &(final_df['eventName'] == 'Render')].groupby(['eventName'])\n",
    "above_med_power = final_df[(final_df['powerDrawWatt'] >= power_med) &(final_df['eventName'] == 'Render')].groupby(['eventName'])"
   ]
  },
  {
   "cell_type": "code",
   "execution_count": 277,
   "metadata": {},
   "outputs": [
    {
     "data": {
      "text/plain": [
       "Render    AxesSubplot(0.1,0.15;0.8x0.75)\n",
       "dtype: object"
      ]
     },
     "execution_count": 277,
     "metadata": {},
     "output_type": "execute_result"
    },
    {
     "data": {
      "image/png": "[encoded data removed]",
      "text/plain": [
       "<Figure size 576x432 with 1 Axes>"
      ]
     },
     "metadata": {
      "needs_background": "light"
     },
     "output_type": "display_data"
    }
   ],
   "source": [
    "below_med_power.boxplot(column=[\"powerDrawWatt\",\"time_difference\"])"
   ]
  },
  {
   "cell_type": "code",
   "execution_count": 278,
   "metadata": {},
   "outputs": [
    {
     "data": {
      "text/plain": [
       "Render    AxesSubplot(0.1,0.15;0.8x0.75)\n",
       "dtype: object"
      ]
     },
     "execution_count": 278,
     "metadata": {},
     "output_type": "execute_result"
    },
    {
     "data": {
      "image/png": "[encoded data removed]",
      "text/plain": [
       "<Figure size 576x432 with 1 Axes>"
      ]
     },
     "metadata": {
      "needs_background": "light"
     },
     "output_type": "display_data"
    }
   ],
   "source": [
    "above_med_power.boxplot(column=[\"powerDrawWatt\",\"time_difference\"])"
   ]
  },
  {
   "cell_type": "code",
   "execution_count": 280,
   "metadata": {},
   "outputs": [
    {
     "data": {
      "text/plain": [
       "85.31480158730157"
      ]
     },
     "execution_count": 280,
     "metadata": {},
     "output_type": "execute_result"
    }
   ],
   "source": [
    "power_med"
   ]
  },
  {
   "cell_type": "code",
   "execution_count": null,
   "metadata": {},
   "outputs": [],
   "source": []
  }
 ],
 "metadata": {
  "kernelspec": {
   "display_name": "Python 3",
   "language": "python",
   "name": "python3"
  },
  "language_info": {
   "codemirror_mode": {
    "name": "ipython",
    "version": 3
   },
   "file_extension": ".py",
   "mimetype": "text/x-python",
   "name": "python",
   "nbconvert_exporter": "python",
   "pygments_lexer": "ipython3",
   "version": "3.7.5"
  }
 },
 "nbformat": 4,
 "nbformat_minor": 2
}
